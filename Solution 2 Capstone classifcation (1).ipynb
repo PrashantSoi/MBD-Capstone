{
 "cells": [
  {
   "cell_type": "code",
   "execution_count": 1,
   "id": "ce3ba9d6",
   "metadata": {},
   "outputs": [],
   "source": [
    "#Imports\n",
    "import matplotlib.pyplot as plotter_lib\n",
    "\n",
    "import numpy as np\n",
    "\n",
    "import PIL as image_lib\n",
    "\n",
    "import tensorflow as tflow\n",
    "\n",
    "from tensorflow.keras.layers import Flatten\n",
    "\n",
    "from keras.layers.core import Dense\n",
    "\n",
    "from tensorflow.keras.models import Sequential\n",
    "\n",
    "from tensorflow.keras.optimizers import Adam\n",
    "\n",
    "import matplotlib.pyplot as plt\n",
    "\n",
    "from keras.layers import Dropout\n",
    "\n",
    "import random\n"
   ]
  },
  {
   "cell_type": "code",
   "execution_count": 2,
   "id": "2be75e84",
   "metadata": {},
   "outputs": [],
   "source": [
    "#Dataset to learn\n",
    "\n",
    "import pathlib\n",
    "\n",
    "demo_dataset = pathlib.Path(r\"C:\\Users\\micha\\OneDrive\\Desktop\\Classification - Copy\")\n",
    "\n",
    "directory = str(demo_dataset)\n",
    "\n",
    "data_directory = pathlib.Path(directory)"
   ]
  },
  {
   "cell_type": "code",
   "execution_count": 3,
   "id": "504b038c",
   "metadata": {},
   "outputs": [
    {
     "name": "stdout",
     "output_type": "stream",
     "text": [
      "Found 162 files belonging to 34 classes.\n",
      "Using 130 files for training.\n"
     ]
    }
   ],
   "source": [
    "#pre-proccesing and splitting the dataset\n",
    "\n",
    "img_height,img_width=180,180\n",
    "\n",
    "batch_size=32\n",
    "\n",
    "train_ds = tflow.keras.preprocessing.image_dataset_from_directory(\n",
    "\n",
    "  data_directory,\n",
    "\n",
    "  validation_split=0.2,\n",
    "\n",
    "  subset=\"training\",\n",
    "\n",
    "  seed=2,\n",
    "\n",
    "label_mode='categorical',\n",
    "\n",
    "  image_size=(img_height, img_width),\n",
    "\n",
    "  batch_size=batch_size)"
   ]
  },
  {
   "cell_type": "code",
   "execution_count": 4,
   "id": "719d9a54",
   "metadata": {},
   "outputs": [
    {
     "name": "stdout",
     "output_type": "stream",
     "text": [
      "Found 162 files belonging to 34 classes.\n",
      "Using 32 files for validation.\n"
     ]
    }
   ],
   "source": [
    "#pre-proccesing and splitting the dataset\n",
    "\n",
    "validation_ds = tflow.keras.preprocessing.image_dataset_from_directory(\n",
    "\n",
    "  data_directory,\n",
    "\n",
    "  validation_split=0.2,\n",
    "\n",
    "  subset=\"validation\",\n",
    "\n",
    "  seed=123,\n",
    "\n",
    "label_mode='categorical',\n",
    "\n",
    "  image_size=(img_height, img_width),\n",
    "\n",
    "  batch_size=batch_size)"
   ]
  },
  {
   "cell_type": "code",
   "execution_count": 5,
   "id": "e945430c",
   "metadata": {},
   "outputs": [],
   "source": [
    "#Choosing the model- Sequential, Adding pre-trained model-ResNet50\n",
    "#Choosing parameters of the model (dropout)\n",
    "\n",
    "demo_resnet_model = Sequential()\n",
    "\n",
    "pretrained_model_for_demo = tflow.keras.applications.ResNet50(include_top=False,\n",
    "                                                              input_shape=(180,180,3),\n",
    "                                                              pooling='avg',\n",
    "                                                              classes=34, \n",
    "                                                              weights='imagenet')\n",
    "\n",
    "for each_layer in pretrained_model_for_demo.layers:\n",
    "    each_layer.trainable = False\n",
    "\n",
    "demo_resnet_model.add(pretrained_model_for_demo)\n",
    "demo_resnet_model.add(Flatten())\n",
    "demo_resnet_model.add(Dense(512, activation='relu'))\n",
    "demo_resnet_model.add(Dropout(0.5))  # Dropout layer with rate of 0.5\n",
    "demo_resnet_model.add(Dense(34, activation='softmax'))\n"
   ]
  },
  {
   "cell_type": "code",
   "execution_count": 6,
   "id": "e75e8084",
   "metadata": {},
   "outputs": [],
   "source": [
    "# Higher the amount the more the model learns around 200 achieved some good results.\n",
    "epochs=200"
   ]
  },
  {
   "cell_type": "code",
   "execution_count": 7,
   "id": "63555782",
   "metadata": {
    "scrolled": false
   },
   "outputs": [
    {
     "name": "stderr",
     "output_type": "stream",
     "text": [
      "WARNING:absl:`lr` is deprecated, please use `learning_rate` instead, or use the legacy optimizer, e.g.,tf.keras.optimizers.legacy.Adam.\n"
     ]
    },
    {
     "name": "stdout",
     "output_type": "stream",
     "text": [
      "Epoch 1/50\n",
      "5/5 [==============================] - 8s 986ms/step - loss: 4.2318 - accuracy: 0.0538 - val_loss: 2.9333 - val_accuracy: 0.2188\n",
      "Epoch 2/50\n",
      "5/5 [==============================] - 4s 706ms/step - loss: 3.3491 - accuracy: 0.1462 - val_loss: 2.6401 - val_accuracy: 0.2812\n",
      "Epoch 3/50\n",
      "5/5 [==============================] - 4s 707ms/step - loss: 3.1583 - accuracy: 0.1000 - val_loss: 2.7261 - val_accuracy: 0.1562\n",
      "Epoch 4/50\n",
      "5/5 [==============================] - 3s 688ms/step - loss: 3.2872 - accuracy: 0.0923 - val_loss: 2.5867 - val_accuracy: 0.2500\n",
      "Epoch 5/50\n",
      "5/5 [==============================] - 4s 711ms/step - loss: 2.8401 - accuracy: 0.1538 - val_loss: 2.3621 - val_accuracy: 0.2188\n",
      "Epoch 6/50\n",
      "5/5 [==============================] - 4s 713ms/step - loss: 2.8181 - accuracy: 0.1538 - val_loss: 2.1766 - val_accuracy: 0.3438\n",
      "Epoch 7/50\n",
      "5/5 [==============================] - 3s 691ms/step - loss: 2.6258 - accuracy: 0.2692 - val_loss: 2.1083 - val_accuracy: 0.2812\n",
      "Epoch 8/50\n",
      "5/5 [==============================] - 3s 690ms/step - loss: 2.7570 - accuracy: 0.2231 - val_loss: 2.0436 - val_accuracy: 0.4062\n",
      "Epoch 9/50\n",
      "5/5 [==============================] - 3s 683ms/step - loss: 2.4605 - accuracy: 0.2538 - val_loss: 2.0547 - val_accuracy: 0.3438\n",
      "Epoch 10/50\n",
      "5/5 [==============================] - 4s 707ms/step - loss: 2.3397 - accuracy: 0.2769 - val_loss: 2.0701 - val_accuracy: 0.3750\n",
      "Epoch 11/50\n",
      "5/5 [==============================] - 4s 711ms/step - loss: 2.3286 - accuracy: 0.2692 - val_loss: 2.0044 - val_accuracy: 0.3125\n",
      "Epoch 12/50\n",
      "5/5 [==============================] - 4s 708ms/step - loss: 2.1599 - accuracy: 0.3154 - val_loss: 1.9269 - val_accuracy: 0.4375\n",
      "Epoch 13/50\n",
      "5/5 [==============================] - 4s 691ms/step - loss: 2.0445 - accuracy: 0.3308 - val_loss: 1.8445 - val_accuracy: 0.4688\n",
      "Epoch 14/50\n",
      "5/5 [==============================] - 3s 694ms/step - loss: 2.1893 - accuracy: 0.2769 - val_loss: 1.8620 - val_accuracy: 0.4062\n",
      "Epoch 15/50\n",
      "5/5 [==============================] - 4s 715ms/step - loss: 2.0914 - accuracy: 0.3000 - val_loss: 1.8551 - val_accuracy: 0.4062\n",
      "Epoch 16/50\n",
      "5/5 [==============================] - 3s 693ms/step - loss: 2.1260 - accuracy: 0.3154 - val_loss: 1.8486 - val_accuracy: 0.4688\n",
      "Epoch 17/50\n",
      "5/5 [==============================] - 4s 703ms/step - loss: 1.9383 - accuracy: 0.3923 - val_loss: 1.7994 - val_accuracy: 0.4062\n",
      "Epoch 18/50\n",
      "5/5 [==============================] - 3s 678ms/step - loss: 2.1324 - accuracy: 0.3308 - val_loss: 1.8671 - val_accuracy: 0.4375\n",
      "Epoch 19/50\n",
      "5/5 [==============================] - 4s 696ms/step - loss: 1.9797 - accuracy: 0.3846 - val_loss: 1.8325 - val_accuracy: 0.3438\n",
      "Epoch 20/50\n",
      "5/5 [==============================] - 4s 705ms/step - loss: 1.9657 - accuracy: 0.3462 - val_loss: 1.6602 - val_accuracy: 0.5000\n",
      "Epoch 21/50\n",
      "5/5 [==============================] - 3s 666ms/step - loss: 1.9811 - accuracy: 0.3769 - val_loss: 1.5963 - val_accuracy: 0.5938\n",
      "Epoch 22/50\n",
      "5/5 [==============================] - 3s 686ms/step - loss: 1.8655 - accuracy: 0.4077 - val_loss: 1.6132 - val_accuracy: 0.5312\n",
      "Epoch 23/50\n",
      "5/5 [==============================] - 3s 692ms/step - loss: 1.8941 - accuracy: 0.4231 - val_loss: 1.7266 - val_accuracy: 0.5000\n",
      "Epoch 24/50\n",
      "5/5 [==============================] - 4s 696ms/step - loss: 1.9462 - accuracy: 0.4000 - val_loss: 1.8108 - val_accuracy: 0.4375\n",
      "Epoch 25/50\n",
      "5/5 [==============================] - 4s 713ms/step - loss: 1.9119 - accuracy: 0.3385 - val_loss: 1.8071 - val_accuracy: 0.4062\n",
      "Epoch 26/50\n",
      "5/5 [==============================] - 3s 690ms/step - loss: 1.9465 - accuracy: 0.3846 - val_loss: 1.7326 - val_accuracy: 0.4062\n",
      "Epoch 27/50\n",
      "5/5 [==============================] - 4s 711ms/step - loss: 1.7392 - accuracy: 0.4077 - val_loss: 1.7080 - val_accuracy: 0.4375\n",
      "Epoch 28/50\n",
      "5/5 [==============================] - 4s 709ms/step - loss: 1.9002 - accuracy: 0.3692 - val_loss: 1.6804 - val_accuracy: 0.3438\n",
      "Epoch 29/50\n",
      "5/5 [==============================] - 4s 718ms/step - loss: 1.8141 - accuracy: 0.3538 - val_loss: 1.5297 - val_accuracy: 0.6250\n",
      "Epoch 30/50\n",
      "5/5 [==============================] - 4s 724ms/step - loss: 1.7364 - accuracy: 0.3923 - val_loss: 1.5481 - val_accuracy: 0.5938\n",
      "Epoch 31/50\n",
      "5/5 [==============================] - 3s 693ms/step - loss: 1.8294 - accuracy: 0.4231 - val_loss: 1.6187 - val_accuracy: 0.5312\n",
      "Epoch 32/50\n",
      "5/5 [==============================] - 4s 717ms/step - loss: 1.6997 - accuracy: 0.4615 - val_loss: 1.6008 - val_accuracy: 0.5000\n",
      "Epoch 33/50\n",
      "5/5 [==============================] - 4s 707ms/step - loss: 1.8552 - accuracy: 0.3769 - val_loss: 1.5817 - val_accuracy: 0.5625\n",
      "Epoch 34/50\n",
      "5/5 [==============================] - 4s 714ms/step - loss: 1.6378 - accuracy: 0.4615 - val_loss: 1.5574 - val_accuracy: 0.5625\n",
      "Epoch 35/50\n",
      "5/5 [==============================] - 3s 683ms/step - loss: 1.8694 - accuracy: 0.3923 - val_loss: 1.5721 - val_accuracy: 0.5625\n",
      "Epoch 36/50\n",
      "5/5 [==============================] - 4s 751ms/step - loss: 1.7308 - accuracy: 0.4462 - val_loss: 1.6822 - val_accuracy: 0.4688\n",
      "Epoch 37/50\n",
      "5/5 [==============================] - 4s 728ms/step - loss: 1.7559 - accuracy: 0.4231 - val_loss: 1.6410 - val_accuracy: 0.5000\n",
      "Epoch 38/50\n",
      "5/5 [==============================] - 4s 720ms/step - loss: 1.5924 - accuracy: 0.4846 - val_loss: 1.5392 - val_accuracy: 0.5625\n",
      "Epoch 39/50\n",
      "5/5 [==============================] - 4s 715ms/step - loss: 1.6459 - accuracy: 0.4308 - val_loss: 1.5056 - val_accuracy: 0.5312\n",
      "Epoch 40/50\n",
      "5/5 [==============================] - 4s 723ms/step - loss: 1.6830 - accuracy: 0.4385 - val_loss: 1.5050 - val_accuracy: 0.5312\n",
      "Epoch 41/50\n",
      "5/5 [==============================] - 4s 732ms/step - loss: 1.7218 - accuracy: 0.4231 - val_loss: 1.6040 - val_accuracy: 0.4688\n",
      "Epoch 42/50\n",
      "5/5 [==============================] - 4s 727ms/step - loss: 1.6634 - accuracy: 0.4385 - val_loss: 1.6015 - val_accuracy: 0.4688\n",
      "Epoch 43/50\n",
      "5/5 [==============================] - 4s 732ms/step - loss: 1.5673 - accuracy: 0.4154 - val_loss: 1.5952 - val_accuracy: 0.5312\n",
      "Epoch 44/50\n",
      "5/5 [==============================] - 4s 717ms/step - loss: 1.4762 - accuracy: 0.5000 - val_loss: 1.5248 - val_accuracy: 0.5625\n",
      "Epoch 45/50\n",
      "5/5 [==============================] - 4s 726ms/step - loss: 1.3806 - accuracy: 0.5615 - val_loss: 1.4682 - val_accuracy: 0.5000\n",
      "Epoch 46/50\n",
      "5/5 [==============================] - 4s 726ms/step - loss: 1.4656 - accuracy: 0.5462 - val_loss: 1.4472 - val_accuracy: 0.4688\n",
      "Epoch 47/50\n",
      "5/5 [==============================] - 4s 719ms/step - loss: 1.4911 - accuracy: 0.5154 - val_loss: 1.4443 - val_accuracy: 0.5312\n",
      "Epoch 48/50\n",
      "5/5 [==============================] - 4s 716ms/step - loss: 1.5843 - accuracy: 0.4385 - val_loss: 1.3902 - val_accuracy: 0.5625\n",
      "Epoch 49/50\n",
      "5/5 [==============================] - 4s 725ms/step - loss: 1.5955 - accuracy: 0.5154 - val_loss: 1.4042 - val_accuracy: 0.4688\n",
      "Epoch 50/50\n",
      "5/5 [==============================] - 4s 735ms/step - loss: 1.4575 - accuracy: 0.5308 - val_loss: 1.4931 - val_accuracy: 0.4688\n"
     ]
    }
   ],
   "source": [
    "#Train the model \n",
    "#choose optimizer\n",
    "#choose metrics\n",
    "demo_resnet_model.compile(optimizer=Adam(lr=0.001),loss='categorical_crossentropy',metrics=['accuracy'])\n",
    "\n",
    "history = demo_resnet_model.fit(train_ds, validation_data=validation_ds, epochs=epochs)"
   ]
  },
  {
   "cell_type": "code",
   "execution_count": 8,
   "id": "a9ccf66c",
   "metadata": {},
   "outputs": [
    {
     "data": {
      "image/png": "[encoded data removed]",
      "text/plain": [
       "<Figure size 576x576 with 2 Axes>"
      ]
     },
     "metadata": {
      "needs_background": "light"
     },
     "output_type": "display_data"
    }
   ],
   "source": [
    "#Visualizing the training and validation accuracy\n",
    "#checking the loss to determine the amount of Epochs needed\n",
    "\n",
    "acc = history.history['accuracy']\n",
    "val_acc = history.history['val_accuracy']\n",
    "\n",
    "loss = history.history['loss']\n",
    "val_loss = history.history['val_loss']\n",
    "\n",
    "epochs_range = range(epochs)\n",
    "\n",
    "plt.figure(figsize=(8, 8))\n",
    "plt.subplot(1, 2, 1)\n",
    "plt.plot(epochs_range, acc, label='Training Accuracy')\n",
    "plt.plot(epochs_range, val_acc, label='Validation Accuracy')\n",
    "plt.legend(loc='lower right')\n",
    "plt.title('Training and Validation Accuracy')\n",
    "\n",
    "plt.subplot(1, 2, 2)\n",
    "plt.plot(epochs_range, loss, label='Training Loss')\n",
    "plt.plot(epochs_range, val_loss, label='Validation Loss')\n",
    "plt.legend(loc='upper right')\n",
    "plt.title('Training and Validation Loss')\n",
    "plt.show()"
   ]
  },
  {
   "cell_type": "code",
   "execution_count": 9,
   "id": "e4cd38c6",
   "metadata": {},
   "outputs": [
    {
     "name": "stdout",
     "output_type": "stream",
     "text": [
      "Classification Labels:\n",
      "0: Changing lanes - A\n",
      "1: Changing lanes - B\n",
      "2: Circulating in a roundabout - A\n",
      "3: Circulating in a roundabout - B\n",
      "4: Collided in the back with another vehicle traveling in the same direction and in the same lane - A\n",
      "5: Collided in the back with another vehicle traveling in the same direction and in the same lane - B\n",
      "6: Coming to the right (at an intersection) - A\n",
      "7: Coming to the right (at an intersection) - B\n",
      "8: Did not respect the preference signal or red traffic light - A\n",
      "9: Did not respect the preference signal or red traffic light - B\n",
      "10: Entering a parking, private place, onto a dirt road - A\n",
      "11: Entering a parking, private place, onto a dirt road - B\n",
      "12: Entering a roundabout - A\n",
      "13: Entering a roundabout - B\n",
      "14: Exiting a parking lot, private place, onto a dirt road - A\n",
      "15: Exiting a parking lot, private place, onto a dirt road - B\n",
      "16: Exiting a parking lot-opening door - A\n",
      "17: Exiting a parking lot-opening door - B\n",
      "18: Invading the lane reserved for traffic in the opposite direction - A\n",
      "19: Invading the lane reserved for traffic in the opposite direction - B\n",
      "20: Overtaking - A\n",
      "21: Overtaking - B\n",
      "22: Reversing - A\n",
      "23: Reversing - B\n",
      "24: Traveling in the same direction but on a different lane - A\n",
      "25: Traveling in the same direction but on a different lane - B\n",
      "26: Turning left - A\n",
      "27: Turning left - B\n",
      "28: Turning right - A\n",
      "29: Turning right - B\n",
      "30: Was going to park - A\n",
      "31: Was going to park - B\n",
      "32: Was parking-stopped - A\n",
      "33: Was parking-stopped - B\n"
     ]
    }
   ],
   "source": [
    "#printing all class names\n",
    "class_names = train_ds.class_names\n",
    "\n",
    "print(\"Classification Labels:\")\n",
    "for i, label in enumerate(class_names):\n",
    "    print(f\"{i}: {label}\")\n"
   ]
  },
  {
   "cell_type": "code",
   "execution_count": 17,
   "id": "8aac7328",
   "metadata": {},
   "outputs": [
    {
     "data": {
      "image/png": "[encoded data removed]",
      "text/plain": [
       "<Figure size 432x288 with 1 Axes>"
      ]
     },
     "metadata": {
      "needs_background": "light"
     },
     "output_type": "display_data"
    },
    {
     "name": "stdout",
     "output_type": "stream",
     "text": [
      "1/1 [==============================] - 0s 62ms/step\n",
      "True labels: ['Reversing - B']\n",
      "Predicted labels: ['Changing lanes - A', 'Did not respect the preference signal or red traffic light - B', 'Entering a roundabout - B']\n"
     ]
    }
   ],
   "source": [
    "# Load a random image from the validation dataset\n",
    "for image_batch, label_batch in validation_ds:\n",
    "    random_index = random.randint(0, len(image_batch)-1)\n",
    "    image = image_batch[random_index]\n",
    "    true_labels = label_batch[random_index]\n",
    "    break\n",
    "\n",
    "# Display the chosen image\n",
    "plt.imshow(image.numpy().astype(\"uint8\"))\n",
    "plt.axis(\"off\")\n",
    "plt.show()\n",
    "\n",
    "# Preprocess the image\n",
    "img_array = np.array(image)\n",
    "img_array = np.expand_dims(img_array, axis=0)\n",
    "img_array = img_array / 255.0\n",
    "\n",
    "# Use the model to predict the classication of the imageÇ\n",
    "predictions = demo_resnet_model.predict(img_array)\n",
    "predicted_labels = np.where(predictions > 0.1)[1]\n",
    "\n",
    "# Print the true labels\n",
    "true_label_names = [class_names[i] for i in np.where(true_labels == 1)[0]]\n",
    "print(\"True labels:\", true_label_names)\n",
    "\n",
    "# Print the predicted labels\n",
    "predicted_label_names = [class_names[i] for i in predicted_labels]\n",
    "print(\"Predicted labels:\", predicted_label_names)\n"
   ]
  },
  {
   "cell_type": "code",
   "execution_count": 11,
   "id": "a95fa8f0",
   "metadata": {},
   "outputs": [
    {
     "ename": "NameError",
     "evalue": "name 'os' is not defined",
     "output_type": "error",
     "traceback": [
      "\u001b[1;31m---------------------------------------------------------------------------\u001b[0m",
      "\u001b[1;31mNameError\u001b[0m                                 Traceback (most recent call last)",
      "Input \u001b[1;32mIn [11]\u001b[0m, in \u001b[0;36m<cell line: 6>\u001b[1;34m()\u001b[0m\n\u001b[0;32m      3\u001b[0m test_path \u001b[38;5;241m=\u001b[39m \u001b[38;5;124mr\u001b[39m\u001b[38;5;124m\"\u001b[39m\u001b[38;5;124mC:\u001b[39m\u001b[38;5;124m\\\u001b[39m\u001b[38;5;124mUsers\u001b[39m\u001b[38;5;124m\\\u001b[39m\u001b[38;5;124mmicha\u001b[39m\u001b[38;5;124m\\\u001b[39m\u001b[38;5;124mOneDrive\u001b[39m\u001b[38;5;124m\\\u001b[39m\u001b[38;5;124mDesktop\u001b[39m\u001b[38;5;124m\\\u001b[39m\u001b[38;5;124mTest\u001b[39m\u001b[38;5;124m\"\u001b[39m\n\u001b[0;32m      5\u001b[0m \u001b[38;5;66;03m# Load a random image from the test dataset\u001b[39;00m\n\u001b[1;32m----> 6\u001b[0m images \u001b[38;5;241m=\u001b[39m \u001b[43mos\u001b[49m\u001b[38;5;241m.\u001b[39mlistdir(test_path)\n\u001b[0;32m      7\u001b[0m random_index \u001b[38;5;241m=\u001b[39m random\u001b[38;5;241m.\u001b[39mrandint(\u001b[38;5;241m0\u001b[39m, \u001b[38;5;28mlen\u001b[39m(images)\u001b[38;5;241m-\u001b[39m\u001b[38;5;241m1\u001b[39m)\n\u001b[0;32m      8\u001b[0m image_path \u001b[38;5;241m=\u001b[39m os\u001b[38;5;241m.\u001b[39mpath\u001b[38;5;241m.\u001b[39mjoin(test_path, images[random_index])\n",
      "\u001b[1;31mNameError\u001b[0m: name 'os' is not defined"
     ]
    }
   ],
   "source": [
    "#In case you have a test dataset\n",
    "\n",
    "test_path = r\"C:\\Users\\micha\\OneDrive\\Desktop\\Test\"\n",
    "\n",
    "# Load a random image from the test dataset\n",
    "images = os.listdir(test_path)\n",
    "random_index = random.randint(0, len(images)-1)\n",
    "image_path = os.path.join(test_path, images[random_index])\n",
    "image = cv2.imread(image_path)\n",
    "\n",
    "# Display the chosen image\n",
    "plt.imshow(cv2.cvtColor(image, cv2.COLOR_BGR2RGB))\n",
    "plt.axis(\"off\")\n",
    "plt.show()\n",
    "\n",
    "# Preprocess the image\n",
    "img_array = cv2.resize(image, (224, 224))\n",
    "img_array = np.expand_dims(img_array, axis=0)\n",
    "img_array = img_array / 255.0\n",
    "\n",
    "# Use the model to predict the class of the image\n",
    "predictions = demo_resnet_model.predict(img_array)\n",
    "predicted_labels = np.where(predictions > 0.2)[1]\n",
    "\n",
    "# Print the predicted labels\n",
    "predicted_label_names = [class_names[i] for i in predicted_labels]\n",
    "print(\"Predicted labels:\", predicted_label_names)\n",
    "\n"
   ]
  },
  {
   "cell_type": "code",
   "execution_count": null,
   "id": "814da8ff",
   "metadata": {},
   "outputs": [],
   "source": []
  },
  {
   "cell_type": "code",
   "execution_count": null,
   "id": "723daf5d",
   "metadata": {},
   "outputs": [],
   "source": []
  },
  {
   "cell_type": "code",
   "execution_count": null,
   "id": "0181b905",
   "metadata": {},
   "outputs": [],
   "source": []
  }
 ],
 "metadata": {
  "kernelspec": {
   "display_name": "Python 3 (ipykernel)",
   "language": "python",
   "name": "python3"
  },
  "language_info": {
   "codemirror_mode": {
    "name": "ipython",
    "version": 3
   },
   "file_extension": ".py",
   "mimetype": "text/x-python",
   "name": "python",
   "nbconvert_exporter": "python",
   "pygments_lexer": "ipython3",
   "version": "3.9.12"
  }
 },
 "nbformat": 4,
 "nbformat_minor": 5
}
